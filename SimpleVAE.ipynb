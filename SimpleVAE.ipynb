{
 "cells": [
  {
   "cell_type": "code",
   "execution_count": 4,
   "metadata": {},
   "outputs": [],
   "source": [
    "import torch"
   ]
  },
  {
   "cell_type": "code",
   "execution_count": 5,
   "metadata": {},
   "outputs": [],
   "source": [
    "class VAE(torch.nn.Module):\n",
    "    def __init__(self, d, latent_dim):\n",
    "        super().__init__()\n",
    "        self.latent_dim = latent_dim\n",
    "        self.encoder = torch.nn.Sequential(\n",
    "            torch.nn.Linear(d, 100),\n",
    "            torch.nn.ReLU(),\n",
    "            torch.nn.Linear(100, 2*latent_dim)\n",
    "        )\n",
    "        self.decoder = torch.nn.Sequential(\n",
    "            torch.nn.Linear(latent_dim, 100),\n",
    "            torch.nn.ReLU(),\n",
    "             torch.nn.Linear(100, d)\n",
    "        )\n",
    "\n",
    "    def samplize(self, mu, log_var):\n",
    "        std = torch.exp(0.5 * log_var)\n",
    "        eps = torch.rand_like(std)\n",
    "        sample = mu + (eps * std)\n",
    "        return sample\n",
    "    \n",
    "    def forward(self, x):\n",
    "        x = self.encoder(x).view(-1, 2, self.latent_dim)\n",
    "        mu = x[:, 0, :]\n",
    "        log_var = x[:, 1, :]\n",
    "        y = self.samplize(mu, log_var)\n",
    "        z = self.decoder(y)\n",
    "        return z, mu, log_var"
   ]
  },
  {
   "cell_type": "code",
   "execution_count": 6,
   "metadata": {},
   "outputs": [],
   "source": [
    "def VAE_loss(y, mu, log_var):\n",
    "    KL = -0.5 * torch.sum(1 + log_var - mu**2 - torch.exp(log_var))\n",
    "    MSE = torch.nn.MSELoss()\n",
    "    return KL + MSE"
   ]
  },
  {
   "cell_type": "code",
   "execution_count": 9,
   "metadata": {},
   "outputs": [
    {
     "data": {
      "text/plain": [
       "tensor([[ 0.1864, -0.0016, -0.2248,  0.0772, -0.2441, -0.2137,  0.3631, -0.3021,\n",
       "         -0.4672, -0.2449]], grad_fn=<AddmmBackward0>)"
      ]
     },
     "execution_count": 9,
     "metadata": {},
     "output_type": "execute_result"
    }
   ],
   "source": [
    "a = torch.randn((1, 10))\n",
    "vae = VAE(10, 5)\n",
    "vae(a)[0]"
   ]
  },
  {
   "cell_type": "code",
   "execution_count": null,
   "metadata": {},
   "outputs": [],
   "source": []
  }
 ],
 "metadata": {
  "kernelspec": {
   "display_name": "Python 3",
   "language": "python",
   "name": "python3"
  },
  "language_info": {
   "codemirror_mode": {
    "name": "ipython",
    "version": 3
   },
   "file_extension": ".py",
   "mimetype": "text/x-python",
   "name": "python",
   "nbconvert_exporter": "python",
   "pygments_lexer": "ipython3",
   "version": "3.10.0"
  }
 },
 "nbformat": 4,
 "nbformat_minor": 2
}
